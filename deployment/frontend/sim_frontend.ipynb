{
 "cells": [
  {
   "cell_type": "code",
   "execution_count": 60,
   "metadata": {},
   "outputs": [
    {
     "name": "stdout",
     "output_type": "stream",
     "text": [
      "4.0\n"
     ]
    }
   ],
   "source": [
    "import pickle \n",
    "print(pickle.format_version)"
   ]
  },
  {
   "cell_type": "code",
   "execution_count": 59,
   "metadata": {},
   "outputs": [],
   "source": [
    "import requests\n",
    "import urllib.request\n",
    "import pandas as pd\n",
    "import numpy as np\n",
    "import os\n",
    "import cv2\n",
    "import tensorflow as tf\n",
    "import matplotlib.pyplot as plt\n",
    "from tensorflow.keras.preprocessing.image import ImageDataGenerator"
   ]
  },
  {
   "cell_type": "code",
   "execution_count": 32,
   "metadata": {},
   "outputs": [],
   "source": [
    "data = {\n",
    "    'image_path': ['inf_image.jpg'],\n",
    "    'label': ['no_label']\n",
    "}"
   ]
  },
  {
   "cell_type": "code",
   "execution_count": 61,
   "metadata": {},
   "outputs": [],
   "source": [
    "inf_df = pd.DataFrame(data)"
   ]
  },
  {
   "cell_type": "code",
   "execution_count": 123,
   "metadata": {},
   "outputs": [],
   "source": [
    "image_url = 'https://upload.wikimedia.org/wikipedia/commons/thumb/e/e2/Gamba_Osaka_2022_logo.svg/1200px-Gamba_Osaka_2022_logo.svg.png'"
   ]
  },
  {
   "cell_type": "code",
   "execution_count": 124,
   "metadata": {},
   "outputs": [],
   "source": [
    "url_response = urllib.request.urlopen(image_url)\n",
    "img_array = np.array(bytearray(url_response.read()), dtype=np.uint8)\n",
    "img = cv2.imdecode(img_array, -1)"
   ]
  },
  {
   "cell_type": "code",
   "execution_count": 125,
   "metadata": {},
   "outputs": [
    {
     "data": {
      "text/plain": [
       "(52952,)"
      ]
     },
     "execution_count": 125,
     "metadata": {},
     "output_type": "execute_result"
    }
   ],
   "source": [
    "img_array.shape"
   ]
  },
  {
   "cell_type": "code",
   "execution_count": 126,
   "metadata": {},
   "outputs": [
    {
     "data": {
      "text/plain": [
       "True"
      ]
     },
     "execution_count": 126,
     "metadata": {},
     "output_type": "execute_result"
    }
   ],
   "source": [
    "path = ''\n",
    "cv2.imwrite( 'inf_image.jpg', img)"
   ]
  },
  {
   "cell_type": "code",
   "execution_count": 127,
   "metadata": {},
   "outputs": [],
   "source": [
    "os.remove('inf_image.jpg')"
   ]
  },
  {
   "cell_type": "code",
   "execution_count": 69,
   "metadata": {},
   "outputs": [],
   "source": [
    "img_height= 160\n",
    "img_width= 160\n",
    "SEED = 1\n",
    "BATCH = 64\n",
    "\n",
    "np.random.seed(70)\n",
    "tf.random.set_seed(70)"
   ]
  },
  {
   "cell_type": "code",
   "execution_count": 117,
   "metadata": {},
   "outputs": [
    {
     "name": "stdout",
     "output_type": "stream",
     "text": [
      "Found 1 validated image filenames belonging to 1 classes.\n"
     ]
    }
   ],
   "source": [
    "ds_inf = ImageDataGenerator(rescale=1./255).flow_from_dataframe(\n",
    "    dataframe=inf_df,\n",
    "    x_col='image_path',\n",
    "    y_col='label',\n",
    "    target_size=(img_height, img_width),\n",
    "    class_mode='categorical',\n",
    "    batch_size=BATCH,\n",
    "    shuffle=False,\n",
    "    seed=SEED)"
   ]
  },
  {
   "cell_type": "code",
   "execution_count": 60,
   "metadata": {},
   "outputs": [],
   "source": [
    "best_model = tf.keras.models.load_model('improved_model_multiclass.hdf5')"
   ]
  },
  {
   "cell_type": "code",
   "execution_count": 45,
   "metadata": {},
   "outputs": [
    {
     "data": {
      "text/plain": [
       "dict_items([('Apparel, Men', 0), ('Apparel, Women', 1), ('Footwear, Men', 2), ('Footwear, Women', 3)])"
      ]
     },
     "execution_count": 45,
     "metadata": {},
     "output_type": "execute_result"
    }
   ],
   "source": [
    "indices = {\n",
    "    'Apparel, Men': 0,\n",
    "    'Apparel, Women': 1,\n",
    "    'Footwear, Men': 2,\n",
    "    'Footwear, Women': 3\n",
    "}\n",
    "indices.items()"
   ]
  },
  {
   "cell_type": "code",
   "execution_count": 118,
   "metadata": {},
   "outputs": [
    {
     "data": {
      "text/plain": [
       "'Footwear, Women'"
      ]
     },
     "execution_count": 118,
     "metadata": {},
     "output_type": "execute_result"
    }
   ],
   "source": [
    "flip_indices = dict((value, key) for key, value in indices.items())\n",
    "y_pred_inf = best_model.predict(ds_inf)\n",
    "y_pred_inf = np.argmax(y_pred_inf, axis=1)[0]\n",
    "y_pred_inf = flip_indices[y_pred_inf]\n",
    "y_pred_inf"
   ]
  },
  {
   "cell_type": "code",
   "execution_count": 120,
   "metadata": {},
   "outputs": [
    {
     "data": {
      "text/plain": [
       "0.9887911"
      ]
     },
     "execution_count": 120,
     "metadata": {},
     "output_type": "execute_result"
    }
   ],
   "source": [
    "best_model.predict(ds_inf).max()"
   ]
  },
  {
   "cell_type": "code",
   "execution_count": null,
   "metadata": {},
   "outputs": [
    {
     "data": {
      "text/plain": [
       "{'image_path': ['inf_image.jpg'], 'label': ['no_label']}"
      ]
     },
     "execution_count": 30,
     "metadata": {},
     "output_type": "execute_result"
    }
   ],
   "source": [
    "URL = 'https://backend-p2m2-yoga.herokuapp.com/'\n",
    "r = requests.get(URL)\n",
    "r.json()"
   ]
  },
  {
   "cell_type": "code",
   "execution_count": 121,
   "metadata": {},
   "outputs": [],
   "source": [
    "data_inf = {\n",
    "    'image_array': img.tolist()\n",
    "}"
   ]
  },
  {
   "cell_type": "code",
   "execution_count": 122,
   "metadata": {},
   "outputs": [
    {
     "ename": "JSONDecodeError",
     "evalue": "[Errno Expecting value] <!doctype html>\n<html lang=en>\n<title>500 Internal Server Error</title>\n<h1>Internal Server Error</h1>\n<p>The server encountered an internal error and was unable to complete your request. Either the server is overloaded or there is an error in the application.</p>\n: 0",
     "output_type": "error",
     "traceback": [
      "\u001b[0;31m---------------------------------------------------------------------------\u001b[0m",
      "\u001b[0;31mJSONDecodeError\u001b[0m                           Traceback (most recent call last)",
      "File \u001b[0;32m~/.local/lib/python3.8/site-packages/requests/models.py:910\u001b[0m, in \u001b[0;36mResponse.json\u001b[0;34m(self, **kwargs)\u001b[0m\n\u001b[1;32m    <a href='file:///home/anugrahyogaprt/.local/lib/python3.8/site-packages/requests/models.py?line=908'>909</a>\u001b[0m \u001b[39mtry\u001b[39;00m:\n\u001b[0;32m--> <a href='file:///home/anugrahyogaprt/.local/lib/python3.8/site-packages/requests/models.py?line=909'>910</a>\u001b[0m     \u001b[39mreturn\u001b[39;00m complexjson\u001b[39m.\u001b[39;49mloads(\u001b[39mself\u001b[39;49m\u001b[39m.\u001b[39;49mtext, \u001b[39m*\u001b[39;49m\u001b[39m*\u001b[39;49mkwargs)\n\u001b[1;32m    <a href='file:///home/anugrahyogaprt/.local/lib/python3.8/site-packages/requests/models.py?line=910'>911</a>\u001b[0m \u001b[39mexcept\u001b[39;00m JSONDecodeError \u001b[39mas\u001b[39;00m e:\n\u001b[1;32m    <a href='file:///home/anugrahyogaprt/.local/lib/python3.8/site-packages/requests/models.py?line=911'>912</a>\u001b[0m     \u001b[39m# Catch JSON-related errors and raise as requests.JSONDecodeError\u001b[39;00m\n\u001b[1;32m    <a href='file:///home/anugrahyogaprt/.local/lib/python3.8/site-packages/requests/models.py?line=912'>913</a>\u001b[0m     \u001b[39m# This aliases json.JSONDecodeError and simplejson.JSONDecodeError\u001b[39;00m\n",
      "File \u001b[0;32m~/.local/lib/python3.8/site-packages/simplejson/__init__.py:525\u001b[0m, in \u001b[0;36mloads\u001b[0;34m(s, encoding, cls, object_hook, parse_float, parse_int, parse_constant, object_pairs_hook, use_decimal, **kw)\u001b[0m\n\u001b[1;32m    <a href='file:///home/anugrahyogaprt/.local/lib/python3.8/site-packages/simplejson/__init__.py?line=520'>521</a>\u001b[0m \u001b[39mif\u001b[39;00m (\u001b[39mcls\u001b[39m \u001b[39mis\u001b[39;00m \u001b[39mNone\u001b[39;00m \u001b[39mand\u001b[39;00m encoding \u001b[39mis\u001b[39;00m \u001b[39mNone\u001b[39;00m \u001b[39mand\u001b[39;00m object_hook \u001b[39mis\u001b[39;00m \u001b[39mNone\u001b[39;00m \u001b[39mand\u001b[39;00m\n\u001b[1;32m    <a href='file:///home/anugrahyogaprt/.local/lib/python3.8/site-packages/simplejson/__init__.py?line=521'>522</a>\u001b[0m         parse_int \u001b[39mis\u001b[39;00m \u001b[39mNone\u001b[39;00m \u001b[39mand\u001b[39;00m parse_float \u001b[39mis\u001b[39;00m \u001b[39mNone\u001b[39;00m \u001b[39mand\u001b[39;00m\n\u001b[1;32m    <a href='file:///home/anugrahyogaprt/.local/lib/python3.8/site-packages/simplejson/__init__.py?line=522'>523</a>\u001b[0m         parse_constant \u001b[39mis\u001b[39;00m \u001b[39mNone\u001b[39;00m \u001b[39mand\u001b[39;00m object_pairs_hook \u001b[39mis\u001b[39;00m \u001b[39mNone\u001b[39;00m\n\u001b[1;32m    <a href='file:///home/anugrahyogaprt/.local/lib/python3.8/site-packages/simplejson/__init__.py?line=523'>524</a>\u001b[0m         \u001b[39mand\u001b[39;00m \u001b[39mnot\u001b[39;00m use_decimal \u001b[39mand\u001b[39;00m \u001b[39mnot\u001b[39;00m kw):\n\u001b[0;32m--> <a href='file:///home/anugrahyogaprt/.local/lib/python3.8/site-packages/simplejson/__init__.py?line=524'>525</a>\u001b[0m     \u001b[39mreturn\u001b[39;00m _default_decoder\u001b[39m.\u001b[39;49mdecode(s)\n\u001b[1;32m    <a href='file:///home/anugrahyogaprt/.local/lib/python3.8/site-packages/simplejson/__init__.py?line=525'>526</a>\u001b[0m \u001b[39mif\u001b[39;00m \u001b[39mcls\u001b[39m \u001b[39mis\u001b[39;00m \u001b[39mNone\u001b[39;00m:\n",
      "File \u001b[0;32m~/.local/lib/python3.8/site-packages/simplejson/decoder.py:370\u001b[0m, in \u001b[0;36mJSONDecoder.decode\u001b[0;34m(self, s, _w, _PY3)\u001b[0m\n\u001b[1;32m    <a href='file:///home/anugrahyogaprt/.local/lib/python3.8/site-packages/simplejson/decoder.py?line=368'>369</a>\u001b[0m     s \u001b[39m=\u001b[39m \u001b[39mstr\u001b[39m(s, \u001b[39mself\u001b[39m\u001b[39m.\u001b[39mencoding)\n\u001b[0;32m--> <a href='file:///home/anugrahyogaprt/.local/lib/python3.8/site-packages/simplejson/decoder.py?line=369'>370</a>\u001b[0m obj, end \u001b[39m=\u001b[39m \u001b[39mself\u001b[39;49m\u001b[39m.\u001b[39;49mraw_decode(s)\n\u001b[1;32m    <a href='file:///home/anugrahyogaprt/.local/lib/python3.8/site-packages/simplejson/decoder.py?line=370'>371</a>\u001b[0m end \u001b[39m=\u001b[39m _w(s, end)\u001b[39m.\u001b[39mend()\n",
      "File \u001b[0;32m~/.local/lib/python3.8/site-packages/simplejson/decoder.py:400\u001b[0m, in \u001b[0;36mJSONDecoder.raw_decode\u001b[0;34m(self, s, idx, _w, _PY3)\u001b[0m\n\u001b[1;32m    <a href='file:///home/anugrahyogaprt/.local/lib/python3.8/site-packages/simplejson/decoder.py?line=398'>399</a>\u001b[0m         idx \u001b[39m+\u001b[39m\u001b[39m=\u001b[39m \u001b[39m3\u001b[39m\n\u001b[0;32m--> <a href='file:///home/anugrahyogaprt/.local/lib/python3.8/site-packages/simplejson/decoder.py?line=399'>400</a>\u001b[0m \u001b[39mreturn\u001b[39;00m \u001b[39mself\u001b[39;49m\u001b[39m.\u001b[39;49mscan_once(s, idx\u001b[39m=\u001b[39;49m_w(s, idx)\u001b[39m.\u001b[39;49mend())\n",
      "\u001b[0;31mJSONDecodeError\u001b[0m: Expecting value: line 1 column 1 (char 0)",
      "\nDuring handling of the above exception, another exception occurred:\n",
      "\u001b[0;31mJSONDecodeError\u001b[0m                           Traceback (most recent call last)",
      "\u001b[1;32m/media/anugrahyogaprt/New Volume/LIBRARY/FileDesktop/Hacktiv8 DS/H8_Exam/p2---ftds010---m2-anugrahyogaprt/deployment/frontend/sim_frontend.ipynb Cell 17'\u001b[0m in \u001b[0;36m<cell line: 3>\u001b[0;34m()\u001b[0m\n\u001b[1;32m      <a href='vscode-notebook-cell:/media/anugrahyogaprt/New%20Volume/LIBRARY/FileDesktop/Hacktiv8%20DS/H8_Exam/p2---ftds010---m2-anugrahyogaprt/deployment/frontend/sim_frontend.ipynb#ch0000016?line=0'>1</a>\u001b[0m URL \u001b[39m=\u001b[39m \u001b[39m'\u001b[39m\u001b[39mhttps://backend-p2m2-yoga.herokuapp.com/fashion\u001b[39m\u001b[39m'\u001b[39m\n\u001b[1;32m      <a href='vscode-notebook-cell:/media/anugrahyogaprt/New%20Volume/LIBRARY/FileDesktop/Hacktiv8%20DS/H8_Exam/p2---ftds010---m2-anugrahyogaprt/deployment/frontend/sim_frontend.ipynb#ch0000016?line=1'>2</a>\u001b[0m r \u001b[39m=\u001b[39m requests\u001b[39m.\u001b[39mpost(URL, json\u001b[39m=\u001b[39mdata_inf)\n\u001b[0;32m----> <a href='vscode-notebook-cell:/media/anugrahyogaprt/New%20Volume/LIBRARY/FileDesktop/Hacktiv8%20DS/H8_Exam/p2---ftds010---m2-anugrahyogaprt/deployment/frontend/sim_frontend.ipynb#ch0000016?line=2'>3</a>\u001b[0m r\u001b[39m.\u001b[39;49mjson()\n",
      "File \u001b[0;32m~/.local/lib/python3.8/site-packages/requests/models.py:917\u001b[0m, in \u001b[0;36mResponse.json\u001b[0;34m(self, **kwargs)\u001b[0m\n\u001b[1;32m    <a href='file:///home/anugrahyogaprt/.local/lib/python3.8/site-packages/requests/models.py?line=914'>915</a>\u001b[0m     \u001b[39mraise\u001b[39;00m RequestsJSONDecodeError(e\u001b[39m.\u001b[39mmessage)\n\u001b[1;32m    <a href='file:///home/anugrahyogaprt/.local/lib/python3.8/site-packages/requests/models.py?line=915'>916</a>\u001b[0m \u001b[39melse\u001b[39;00m:\n\u001b[0;32m--> <a href='file:///home/anugrahyogaprt/.local/lib/python3.8/site-packages/requests/models.py?line=916'>917</a>\u001b[0m     \u001b[39mraise\u001b[39;00m RequestsJSONDecodeError(e\u001b[39m.\u001b[39mmsg, e\u001b[39m.\u001b[39mdoc, e\u001b[39m.\u001b[39mpos)\n",
      "\u001b[0;31mJSONDecodeError\u001b[0m: [Errno Expecting value] <!doctype html>\n<html lang=en>\n<title>500 Internal Server Error</title>\n<h1>Internal Server Error</h1>\n<p>The server encountered an internal error and was unable to complete your request. Either the server is overloaded or there is an error in the application.</p>\n: 0"
     ]
    }
   ],
   "source": [
    "URL = 'https://backend-p2m2-yoga.herokuapp.com/fashion'\n",
    "r = requests.post(URL, json=data_inf)\n",
    "r.json()"
   ]
  },
  {
   "cell_type": "code",
   "execution_count": null,
   "metadata": {},
   "outputs": [],
   "source": [
    "URL = 'https://backend-ayp10-p1m2.herokuapp.com/churn'\n",
    "r = requests.post(URL, json=data_inf)\n",
    "r.json()"
   ]
  }
 ],
 "metadata": {
  "interpreter": {
   "hash": "df0893f56f349688326838aaeea0de204df53a132722cbd565e54b24a8fec5f6"
  },
  "kernelspec": {
   "display_name": "Python 3.8.10 64-bit",
   "language": "python",
   "name": "python3"
  },
  "language_info": {
   "codemirror_mode": {
    "name": "ipython",
    "version": 3
   },
   "file_extension": ".py",
   "mimetype": "text/x-python",
   "name": "python",
   "nbconvert_exporter": "python",
   "pygments_lexer": "ipython3",
   "version": "3.8.10"
  },
  "orig_nbformat": 4
 },
 "nbformat": 4,
 "nbformat_minor": 2
}
